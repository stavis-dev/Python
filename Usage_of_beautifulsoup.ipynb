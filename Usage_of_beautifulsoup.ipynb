{
  "nbformat": 4,
  "nbformat_minor": 0,
  "metadata": {
    "colab": {
      "name": "Usage of beautifulsoup",
      "provenance": [],
      "include_colab_link": true
    },
    "kernelspec": {
      "name": "python3",
      "display_name": "Python 3"
    }
  },
  "cells": [
    {
      "cell_type": "markdown",
      "metadata": {
        "id": "view-in-github",
        "colab_type": "text"
      },
      "source": [
        "<a href=\"https://colab.research.google.com/github/stavis-dev/Python/blob/main/Usage_of_beautifulsoup.ipynb\" target=\"_parent\"><img src=\"https://colab.research.google.com/assets/colab-badge.svg\" alt=\"Open In Colab\"/></a>"
      ]
    },
    {
      "cell_type": "markdown",
      "metadata": {
        "id": "dAPOyEAMMzH-"
      },
      "source": [
        "# Простое использование BeautifulSoup"
      ]
    },
    {
      "cell_type": "markdown",
      "metadata": {
        "id": "auYEwuJvNCUY"
      },
      "source": [
        "Импорт модуля и библиотеки урл запроса.\n",
        "\n"
      ]
    },
    {
      "cell_type": "code",
      "metadata": {
        "id": "dV_IAtRhM1k6"
      },
      "source": [
        "from bs4 import BeautifulSoup\n",
        "from urllib.request import urlopen"
      ],
      "execution_count": 4,
      "outputs": []
    },
    {
      "cell_type": "code",
      "metadata": {
        "id": "DKYbYAbQM_sd"
      },
      "source": [
        "html= urlopen(\"https://stavis-dev.github.io/\").read().decode('utf-8')\n",
        "print(html)"
      ],
      "execution_count": null,
      "outputs": []
    },
    {
      "cell_type": "markdown",
      "metadata": {
        "id": "mhjPyL_9TNzc"
      },
      "source": [
        "Parsing this html using a method called lxml, create a soup object. You can simply \"h1\" or \"p\" to call the heading 1 and paragraph tag from soup.\n",
        "\n"
      ]
    },
    {
      "cell_type": "code",
      "metadata": {
        "id": "PnZfrc0LTPUZ",
        "colab": {
          "base_uri": "https://localhost:8080/"
        },
        "outputId": "fb4f0610-43ea-43e4-8187-9d2a8d4858f0"
      },
      "source": [
        "soup= BeautifulSoup(html,features='lxml')\n",
        "print(soup.h1)\n",
        "print('\\n',soup.p)"
      ],
      "execution_count": 6,
      "outputs": [
        {
          "output_type": "stream",
          "name": "stdout",
          "text": [
            "<h1>Домашнаяя база знаний</h1>\n",
            "\n",
            " <p>Добро пожаловать, тут собрана база знаний и решений, которые я решил “где то записать”. На самом деле я просто практикуюсь с генератором сайтов “hugo”. Так что пожалуйста строго не судите. Темы базы абсолютно разные. От програмирования до&amp;mldr; <strong>Дважды подумайте</strong>, прежде чем читать это&amp;mldr;</p>\n"
          ]
        }
      ]
    },
    {
      "cell_type": "markdown",
      "source": [
        "Получение всех ссылок со страницы"
      ],
      "metadata": {
        "id": "pt7D50-5SpPx"
      }
    },
    {
      "cell_type": "code",
      "metadata": {
        "id": "MZHLa20LR_uf",
        "colab": {
          "base_uri": "https://localhost:8080/"
        },
        "outputId": "b824df03-91e7-4a0b-b759-95ab556a87f4"
      },
      "source": [
        "all_href=soup.find_all('a')\n",
        "# all_href=[l['href'] for l in all_href]\n",
        "all_href=[l.attrs.get('href') for l in all_href]\n",
        "print('\\n', all_href)"
      ],
      "execution_count": 7,
      "outputs": [
        {
          "output_type": "stream",
          "name": "stdout",
          "text": [
            "\n",
            " ['https://stavis-dev.github.io/', 'https://stavis-dev.github.io/en/', 'https://stavis-dev.github.io/archives', 'https://stavis-dev.github.io/python/', 'https://stavis-dev.github.io/posts/', 'https://stavis-dev.github.io/categories/', 'https://stavis-dev.github.io/search/', 'https://stavis-dev.github.io/tags/', 'https://github.com/stavis-dev', 'https://stavis-dev.github.io/', 'index.xml', 'https://stavis-dev.github.io/python/modules/python-re-sub/', 'https://stavis-dev.github.io/python/types/python-types-tuple/', 'https://stavis-dev.github.io/python/types/python-types-list/', 'https://stavis-dev.github.io/python/dataclasses/', 'https://stavis-dev.github.io/python/python/', 'https://stavis-dev.github.io/page/2/', 'https://stavis-dev.github.io/', 'https://gohugo.io/', 'https://git.io/hugopapermod', '#top']\n"
          ]
        }
      ]
    }
  ]
}